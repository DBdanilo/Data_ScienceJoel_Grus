{
 "cells": [
  {
   "cell_type": "code",
   "execution_count": 1,
   "metadata": {},
   "outputs": [],
   "source": [
    "from pprint import pprint as p\n",
    "from functools import reduce"
   ]
  },
  {
   "cell_type": "markdown",
   "metadata": {},
   "source": [
    "# 선형대수\n",
    "\n",
    "선형대수는 데이터 과학 기술과 개념을 뒷받침 해주는 분야이다.\n",
    "\n",
    "### 1. 벡터\n",
    "\n",
    "벡터는 어떤 유한한 차원에 공간에 존재하는 점들이다. 대부분의 데이터(특히 숫자)는 벡터로 표현 가능하다. 벡터를 가장 간단하게 list로 표현 가능하다. 단 list로 벡터 연산은 할 수 없다. 따로 함수를 만들어주어야 한다.\n"
   ]
  },
  {
   "cell_type": "code",
   "execution_count": 2,
   "metadata": {},
   "outputs": [],
   "source": [
    "index = [1, 2, 3] #키, 몸무게, 나이\n",
    "grade = [100,84,92] #시험1~3 점수\n",
    "all=[[176, 66, 27],\n",
    "    [100,84,92,51]]"
   ]
  },
  {
   "cell_type": "markdown",
   "metadata": {},
   "source": [
    "각 성분끼리의 덧,뺄셈"
   ]
  },
  {
   "cell_type": "code",
   "execution_count": 3,
   "metadata": {},
   "outputs": [],
   "source": [
    "def vectorAdd(v,w): \n",
    "    \"\"\"각 성분끼리 덧셈\"\"\"\n",
    "    return[v_i + w_i for v_i,w_i in zip(v,w)]\n",
    "\n",
    "def vectorSubtract(v,w):\n",
    "    \"\"\"각 성분끼리 뺄셈\"\"\"\n",
    "    return[v_i - w_i for v_i,w_i in zip(v,w)]"
   ]
  },
  {
   "cell_type": "code",
   "execution_count": 4,
   "metadata": {},
   "outputs": [
    {
     "name": "stdout",
     "output_type": "stream",
     "text": [
      "[101, 86, 95]\n",
      "[-99, -82, -89]\n"
     ]
    }
   ],
   "source": [
    "p(vectorAdd(index, grade))\n",
    "p(vectorSubtract(index,grade))"
   ]
  },
  {
   "cell_type": "markdown",
   "metadata": {},
   "source": [
    "벡터로 구성된 list에서 모든 벡터의 각 성분을 더하고 싶은 경우"
   ]
  },
  {
   "cell_type": "code",
   "execution_count": 5,
   "metadata": {},
   "outputs": [],
   "source": [
    "def vectorSum(vectors): \n",
    "    \"\"\"모든 벡터의 각 성분들끼리 덧셈\"\"\"\n",
    "    return reduce(vectorAdd, vectors)"
   ]
  },
  {
   "cell_type": "code",
   "execution_count": 6,
   "metadata": {},
   "outputs": [
    {
     "name": "stdout",
     "output_type": "stream",
     "text": [
      "[276, 150, 119]\n"
     ]
    }
   ],
   "source": [
    "p(vectorSum(all))"
   ]
  },
  {
   "cell_type": "markdown",
   "metadata": {},
   "source": [
    "벡터와 스칼라 곱셈"
   ]
  },
  {
   "cell_type": "code",
   "execution_count": 7,
   "metadata": {},
   "outputs": [],
   "source": [
    "def scalarMultiply(scalar,vectors): \n",
    "    \"\"\"벡터에 스칼라를 곱함\"\"\"\n",
    "    return [scalar * v_i for v_i in vectors] "
   ]
  },
  {
   "cell_type": "code",
   "execution_count": 8,
   "metadata": {},
   "outputs": [
    {
     "data": {
      "text/plain": [
       "[10, 20, 30]"
      ]
     },
     "execution_count": 8,
     "metadata": {},
     "output_type": "execute_result"
    }
   ],
   "source": [
    "scalarMultiply(10,index)"
   ]
  },
  {
   "cell_type": "markdown",
   "metadata": {},
   "source": [
    "같은 길이의 벡터로 구성된 list가 주어졌을 때 각 성분병 평균을 구함"
   ]
  },
  {
   "cell_type": "code",
   "execution_count": 9,
   "metadata": {},
   "outputs": [],
   "source": [
    "def vectorMean(vectors):\n",
    "    \"\"\"i번째 성분이 입력된 벡터의\n",
    "    i번째 성분의 평균을 의미하는 벡터 계산\"\"\"\n",
    "    lenth=len(vectors)\n",
    "    return scalarMultiply(1/lenth, vectorSum(vectors))"
   ]
  },
  {
   "cell_type": "code",
   "execution_count": 10,
   "metadata": {},
   "outputs": [
    {
     "data": {
      "text/plain": [
       "[138.0, 75.0, 59.5]"
      ]
     },
     "execution_count": 10,
     "metadata": {},
     "output_type": "execute_result"
    }
   ],
   "source": [
    "vectorMean(all)"
   ]
  },
  {
   "cell_type": "markdown",
   "metadata": {},
   "source": [
    "벡터의 내적 계산(벡터의 각 성분별 곱한 값을 더한 값)\n",
    "\n",
    "내적은 벡터 v가 벡터 w방향으로 얼마나 멀리 뻗는지를 나타냄"
   ]
  },
  {
   "cell_type": "code",
   "execution_count": 11,
   "metadata": {},
   "outputs": [],
   "source": [
    "def dot(v,w):\n",
    "    \"\"\"v_1 * w_1 + ... + v_n * w_n\"\"\"\n",
    "    return sum(v_i * w_i for v_i, w_i in zip(v,w))"
   ]
  },
  {
   "cell_type": "code",
   "execution_count": 12,
   "metadata": {},
   "outputs": [
    {
     "data": {
      "text/plain": [
       "12"
      ]
     },
     "execution_count": 12,
     "metadata": {},
     "output_type": "execute_result"
    }
   ],
   "source": [
    "dot(index,[10,1,0])"
   ]
  },
  {
   "cell_type": "markdown",
   "metadata": {},
   "source": [
    "내적의 개념을 사용하여 각 성분의 제곱 핪을 쉽게 구할 수 있다."
   ]
  },
  {
   "cell_type": "code",
   "execution_count": 13,
   "metadata": {},
   "outputs": [],
   "source": [
    "def sumOfSquares(v):\n",
    "    \"\"\"v_1 * v1 + ... + v_n * v_n\"\"\"\n",
    "    return dot(v, v)"
   ]
  },
  {
   "cell_type": "code",
   "execution_count": 14,
   "metadata": {},
   "outputs": [
    {
     "data": {
      "text/plain": [
       "14"
      ]
     },
     "execution_count": 14,
     "metadata": {},
     "output_type": "execute_result"
    }
   ],
   "source": [
    "sumOfSquares(index)"
   ]
  },
  {
   "cell_type": "markdown",
   "metadata": {},
   "source": [
    "제곱 값의 합을 이용하여 벡터의 크기를 계산할 수 있다."
   ]
  },
  {
   "cell_type": "code",
   "execution_count": 15,
   "metadata": {},
   "outputs": [],
   "source": [
    "import math"
   ]
  },
  {
   "cell_type": "code",
   "execution_count": 16,
   "metadata": {},
   "outputs": [],
   "source": [
    "def magnitude(v):\n",
    "    return math.sqrt(sumOfSquares(v))"
   ]
  },
  {
   "cell_type": "code",
   "execution_count": 17,
   "metadata": {},
   "outputs": [
    {
     "data": {
      "text/plain": [
       "3.7416573867739413"
      ]
     },
     "execution_count": 17,
     "metadata": {},
     "output_type": "execute_result"
    }
   ],
   "source": [
    "magnitude(index)"
   ]
  },
  {
   "cell_type": "markdown",
   "metadata": {},
   "source": [
    "두 벡터간의 거리 계산 식은 아래와 같다.\n",
    "$$\\sqrt{(v_1 - w_1)^2 + ... + (v_n - w_n)^2 }$$"
   ]
  },
  {
   "cell_type": "code",
   "execution_count": 33,
   "metadata": {},
   "outputs": [],
   "source": [
    "def squaredDistance(v, w):\n",
    "    return sumOfSquares(vectorSubtract(v, w))\n",
    "\n",
    "def distance(v, w):\n",
    "    return math.sqrt(squaredDistance(v, w))"
   ]
  },
  {
   "cell_type": "code",
   "execution_count": 34,
   "metadata": {},
   "outputs": [
    {
     "data": {
      "text/plain": [
       "156.35216659835578"
      ]
     },
     "execution_count": 34,
     "metadata": {},
     "output_type": "execute_result"
    }
   ],
   "source": [
    "distance(index,grade)"
   ]
  },
  {
   "cell_type": "code",
   "execution_count": null,
   "metadata": {},
   "outputs": [],
   "source": []
  }
 ],
 "metadata": {
  "kernelspec": {
   "display_name": "Python 3",
   "language": "python",
   "name": "python3"
  },
  "language_info": {
   "codemirror_mode": {
    "name": "ipython",
    "version": 3
   },
   "file_extension": ".py",
   "mimetype": "text/x-python",
   "name": "python",
   "nbconvert_exporter": "python",
   "pygments_lexer": "ipython3",
   "version": "3.5.6"
  }
 },
 "nbformat": 4,
 "nbformat_minor": 2
}
